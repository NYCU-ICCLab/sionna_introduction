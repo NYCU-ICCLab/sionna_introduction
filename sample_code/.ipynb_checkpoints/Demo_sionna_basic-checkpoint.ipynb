{
 "cells": [
  {
   "cell_type": "code",
   "execution_count": 1,
   "id": "c2e27490-645d-4f3b-94a7-8c54c4a53a4c",
   "metadata": {},
   "outputs": [
    {
     "name": "stdout",
     "output_type": "stream",
     "text": [
      "No CUDA device found; using CPU as fallback.\n"
     ]
    }
   ],
   "source": [
    "import os # Configure which GPU\n",
    "if os.getenv(\"CUDA_VISIBLE_DEVICES\") is None:\n",
    "    gpu_num = 0 # Use \"\" to use the CPU\n",
    "    os.environ[\"CUDA_VISIBLE_DEVICES\"] = f\"{gpu_num}\"\n",
    "os.environ['TF_CPP_MIN_LOG_LEVEL'] = '3'\n",
    "\n",
    "# Import Sionna\n",
    "try:\n",
    "    import sionna as sn\n",
    "except ImportError as e:\n",
    "    # Install Sionna if package is not already installed\n",
    "    import os\n",
    "    os.system(\"pip install sionna\")\n",
    "    import sionna as sn\n",
    "\n",
    "# Configure the notebook to use only a single GPU and allocate only as much memory as needed\n",
    "# For more details, see https://www.tensorflow.org/guide/gpu\n",
    "import tensorflow as tf\n",
    "\n",
    "gpus = tf.config.list_physical_devices('GPU')\n",
    "\n",
    "\n",
    "#if you are using MacOS\n",
    "tf.config.set_visible_devices([], 'GPU')\n",
    "\n",
    "if gpus:\n",
    "    try:\n",
    "        tf.config.experimental.set_memory_growth(gpus[0], True)\n",
    "    except RuntimeError as e:\n",
    "        print(e)\n",
    "\n",
    "# Avoid warnings from TensorFlow\n",
    "tf.get_logger().setLevel('ERROR')\n",
    "\n",
    "# Colab does currently not support the latest version of ipython.\n",
    "# Thus, the preview does not work in Colab. However, whenever possible we\n",
    "# strongly recommend to use the scene preview mode.\n",
    "try: # detect if the notebook runs in Colab\n",
    "    import google.colab\n",
    "    no_preview = True # deactivate preview\n",
    "except:\n",
    "    if os.getenv(\"SIONNA_NO_PREVIEW\"):\n",
    "        no_preview = True\n",
    "    else:\n",
    "        no_preview = False\n",
    "\n",
    "resolution = [480,320] # increase for higher quality of renderings\n",
    "\n",
    "# Define magic cell command to skip a cell if needed\n",
    "from IPython.core.magic import register_cell_magic\n",
    "from IPython import get_ipython\n",
    "\n",
    "@register_cell_magic\n",
    "def skip_if(line, cell):\n",
    "    if eval(line):\n",
    "        return\n",
    "    get_ipython().run_cell(cell)\n",
    "\n",
    "# Set random seed for reproducibility\n",
    "sn.config.seed = 42\n",
    "\n"
   ]
  },
  {
   "attachments": {},
   "cell_type": "markdown",
   "id": "86da24db-e9ae-439a-8724-003fc69e9004",
   "metadata": {},
   "source": [
    "本次實驗目標為模擬基本的通訊架構，如下圖\n",
    "\n",
    "![sionna_basic](../fig/sionna_simulate_basic.png)"
   ]
  },
  {
   "cell_type": "code",
   "execution_count": 2,
   "id": "ea4ea5d8-d97c-408f-9cba-62fff7f943f2",
   "metadata": {},
   "outputs": [
    {
     "name": "stdout",
     "output_type": "stream",
     "text": [
      "Shape of data bits:  (10, 1, 1, 1024)\n"
     ]
    }
   ],
   "source": [
    "#生成binary source\n",
    "binary_source = sn.utils.BinarySource()\n",
    "\n",
    "batch_size=10\n",
    "data_length=1024\n",
    "data_bits = binary_source([batch_size, 1, 1,data_length])\n",
    "print(\"Shape of data bits: \", data_bits.shape)\n"
   ]
  },
  {
   "cell_type": "code",
   "execution_count": null,
   "id": "5759cf06-5a42-4d4c-a95f-99bf8ca5c88b",
   "metadata": {},
   "outputs": [],
   "source": []
  }
 ],
 "metadata": {
  "kernelspec": {
   "display_name": "Python 3 (ipykernel)",
   "language": "python",
   "name": "python3"
  },
  "language_info": {
   "codemirror_mode": {
    "name": "ipython",
    "version": 3
   },
   "file_extension": ".py",
   "mimetype": "text/x-python",
   "name": "python",
   "nbconvert_exporter": "python",
   "pygments_lexer": "ipython3",
   "version": "3.9.21"
  }
 },
 "nbformat": 4,
 "nbformat_minor": 5
}
